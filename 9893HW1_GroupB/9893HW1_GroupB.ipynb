{
 "cells": [
  {
   "cell_type": "code",
   "execution_count": 1,
   "id": "fbca835b",
   "metadata": {},
   "outputs": [],
   "source": [
    "import yfinance as yf\n",
    "import pandas as pd\n",
    "import warnings\n",
    "from matplotlib import pyplot as plt\n",
    "warnings.filterwarnings(\"ignore\")"
   ]
  },
  {
   "cell_type": "markdown",
   "id": "f275bf0c",
   "metadata": {},
   "source": [
    "## Problem 2"
   ]
  },
  {
   "cell_type": "markdown",
   "id": "19cc5eac",
   "metadata": {},
   "source": [
    "### Download data from Yahoo Finance"
   ]
  },
  {
   "cell_type": "markdown",
   "id": "eb440fc4",
   "metadata": {},
   "source": [
    "- The Yahoo Finance ticker *QQQM* is the ticker of *Nasdaq 100 ETF QQQ*.\n",
    "<img src=\"./QQQM.png\" width=\"400\" />\n",
    "- As the API description, its default setting is using adjusted price. "
   ]
  },
  {
   "cell_type": "code",
   "execution_count": 2,
   "id": "a6337b56",
   "metadata": {},
   "outputs": [
    {
     "data": {
      "text/html": [
       "<div>\n",
       "<style scoped>\n",
       "    .dataframe tbody tr th:only-of-type {\n",
       "        vertical-align: middle;\n",
       "    }\n",
       "\n",
       "    .dataframe tbody tr th {\n",
       "        vertical-align: top;\n",
       "    }\n",
       "\n",
       "    .dataframe thead th {\n",
       "        text-align: right;\n",
       "    }\n",
       "</style>\n",
       "<table border=\"1\" class=\"dataframe\">\n",
       "  <thead>\n",
       "    <tr style=\"text-align: right;\">\n",
       "      <th></th>\n",
       "      <th>Open</th>\n",
       "      <th>High</th>\n",
       "      <th>Low</th>\n",
       "      <th>Close</th>\n",
       "      <th>Volume</th>\n",
       "      <th>Dividends</th>\n",
       "      <th>Stock Splits</th>\n",
       "      <th>Capital Gains</th>\n",
       "    </tr>\n",
       "    <tr>\n",
       "      <th>Date</th>\n",
       "      <th></th>\n",
       "      <th></th>\n",
       "      <th></th>\n",
       "      <th></th>\n",
       "      <th></th>\n",
       "      <th></th>\n",
       "      <th></th>\n",
       "      <th></th>\n",
       "    </tr>\n",
       "  </thead>\n",
       "  <tbody>\n",
       "    <tr>\n",
       "      <th>2020-10-13 00:00:00-04:00</th>\n",
       "      <td>119.011771</td>\n",
       "      <td>119.886568</td>\n",
       "      <td>118.500649</td>\n",
       "      <td>118.982285</td>\n",
       "      <td>13100</td>\n",
       "      <td>0.0</td>\n",
       "      <td>0.0</td>\n",
       "      <td>0.0</td>\n",
       "    </tr>\n",
       "    <tr>\n",
       "      <th>2020-10-14 00:00:00-04:00</th>\n",
       "      <td>119.257500</td>\n",
       "      <td>119.639856</td>\n",
       "      <td>117.329999</td>\n",
       "      <td>117.920731</td>\n",
       "      <td>37800</td>\n",
       "      <td>0.0</td>\n",
       "      <td>0.0</td>\n",
       "      <td>0.0</td>\n",
       "    </tr>\n",
       "    <tr>\n",
       "      <th>2020-10-15 00:00:00-04:00</th>\n",
       "      <td>116.013865</td>\n",
       "      <td>117.242513</td>\n",
       "      <td>115.776984</td>\n",
       "      <td>117.072472</td>\n",
       "      <td>30600</td>\n",
       "      <td>0.0</td>\n",
       "      <td>0.0</td>\n",
       "      <td>0.0</td>\n",
       "    </tr>\n",
       "    <tr>\n",
       "      <th>2020-10-16 00:00:00-04:00</th>\n",
       "      <td>117.851940</td>\n",
       "      <td>118.353231</td>\n",
       "      <td>116.475853</td>\n",
       "      <td>116.475853</td>\n",
       "      <td>51000</td>\n",
       "      <td>0.0</td>\n",
       "      <td>0.0</td>\n",
       "      <td>0.0</td>\n",
       "    </tr>\n",
       "    <tr>\n",
       "      <th>2020-10-19 00:00:00-04:00</th>\n",
       "      <td>117.783139</td>\n",
       "      <td>117.783139</td>\n",
       "      <td>114.249545</td>\n",
       "      <td>114.460869</td>\n",
       "      <td>50600</td>\n",
       "      <td>0.0</td>\n",
       "      <td>0.0</td>\n",
       "      <td>0.0</td>\n",
       "    </tr>\n",
       "    <tr>\n",
       "      <th>...</th>\n",
       "      <td>...</td>\n",
       "      <td>...</td>\n",
       "      <td>...</td>\n",
       "      <td>...</td>\n",
       "      <td>...</td>\n",
       "      <td>...</td>\n",
       "      <td>...</td>\n",
       "      <td>...</td>\n",
       "    </tr>\n",
       "    <tr>\n",
       "      <th>2023-08-28 00:00:00-04:00</th>\n",
       "      <td>151.029999</td>\n",
       "      <td>151.255997</td>\n",
       "      <td>149.869995</td>\n",
       "      <td>150.949997</td>\n",
       "      <td>780900</td>\n",
       "      <td>0.0</td>\n",
       "      <td>0.0</td>\n",
       "      <td>0.0</td>\n",
       "    </tr>\n",
       "    <tr>\n",
       "      <th>2023-08-29 00:00:00-04:00</th>\n",
       "      <td>150.789993</td>\n",
       "      <td>154.328995</td>\n",
       "      <td>150.699997</td>\n",
       "      <td>154.149994</td>\n",
       "      <td>811700</td>\n",
       "      <td>0.0</td>\n",
       "      <td>0.0</td>\n",
       "      <td>0.0</td>\n",
       "    </tr>\n",
       "    <tr>\n",
       "      <th>2023-08-30 00:00:00-04:00</th>\n",
       "      <td>154.250000</td>\n",
       "      <td>155.289993</td>\n",
       "      <td>153.830002</td>\n",
       "      <td>155.080002</td>\n",
       "      <td>1261700</td>\n",
       "      <td>0.0</td>\n",
       "      <td>0.0</td>\n",
       "      <td>0.0</td>\n",
       "    </tr>\n",
       "    <tr>\n",
       "      <th>2023-08-31 00:00:00-04:00</th>\n",
       "      <td>155.059998</td>\n",
       "      <td>156.210007</td>\n",
       "      <td>155.059998</td>\n",
       "      <td>155.429993</td>\n",
       "      <td>725100</td>\n",
       "      <td>0.0</td>\n",
       "      <td>0.0</td>\n",
       "      <td>0.0</td>\n",
       "    </tr>\n",
       "    <tr>\n",
       "      <th>2023-09-01 00:00:00-04:00</th>\n",
       "      <td>156.509995</td>\n",
       "      <td>156.669998</td>\n",
       "      <td>154.729996</td>\n",
       "      <td>155.369995</td>\n",
       "      <td>1110400</td>\n",
       "      <td>0.0</td>\n",
       "      <td>0.0</td>\n",
       "      <td>0.0</td>\n",
       "    </tr>\n",
       "  </tbody>\n",
       "</table>\n",
       "<p>727 rows × 8 columns</p>\n",
       "</div>"
      ],
      "text/plain": [
       "                                 Open        High         Low       Close  \\\n",
       "Date                                                                        \n",
       "2020-10-13 00:00:00-04:00  119.011771  119.886568  118.500649  118.982285   \n",
       "2020-10-14 00:00:00-04:00  119.257500  119.639856  117.329999  117.920731   \n",
       "2020-10-15 00:00:00-04:00  116.013865  117.242513  115.776984  117.072472   \n",
       "2020-10-16 00:00:00-04:00  117.851940  118.353231  116.475853  116.475853   \n",
       "2020-10-19 00:00:00-04:00  117.783139  117.783139  114.249545  114.460869   \n",
       "...                               ...         ...         ...         ...   \n",
       "2023-08-28 00:00:00-04:00  151.029999  151.255997  149.869995  150.949997   \n",
       "2023-08-29 00:00:00-04:00  150.789993  154.328995  150.699997  154.149994   \n",
       "2023-08-30 00:00:00-04:00  154.250000  155.289993  153.830002  155.080002   \n",
       "2023-08-31 00:00:00-04:00  155.059998  156.210007  155.059998  155.429993   \n",
       "2023-09-01 00:00:00-04:00  156.509995  156.669998  154.729996  155.369995   \n",
       "\n",
       "                            Volume  Dividends  Stock Splits  Capital Gains  \n",
       "Date                                                                        \n",
       "2020-10-13 00:00:00-04:00    13100        0.0           0.0            0.0  \n",
       "2020-10-14 00:00:00-04:00    37800        0.0           0.0            0.0  \n",
       "2020-10-15 00:00:00-04:00    30600        0.0           0.0            0.0  \n",
       "2020-10-16 00:00:00-04:00    51000        0.0           0.0            0.0  \n",
       "2020-10-19 00:00:00-04:00    50600        0.0           0.0            0.0  \n",
       "...                            ...        ...           ...            ...  \n",
       "2023-08-28 00:00:00-04:00   780900        0.0           0.0            0.0  \n",
       "2023-08-29 00:00:00-04:00   811700        0.0           0.0            0.0  \n",
       "2023-08-30 00:00:00-04:00  1261700        0.0           0.0            0.0  \n",
       "2023-08-31 00:00:00-04:00   725100        0.0           0.0            0.0  \n",
       "2023-09-01 00:00:00-04:00  1110400        0.0           0.0            0.0  \n",
       "\n",
       "[727 rows x 8 columns]"
      ]
     },
     "execution_count": 2,
     "metadata": {},
     "output_type": "execute_result"
    }
   ],
   "source": [
    "# Download Data from Yahoo Finance\n",
    "QQQM = yf.Ticker(\"QQQM\")\n",
    "hist = QQQM.history(period=\"10y\")\n",
    "hist"
   ]
  },
  {
   "cell_type": "code",
   "execution_count": 3,
   "id": "6d0f1cd4",
   "metadata": {},
   "outputs": [],
   "source": [
    "#Defining a function to calculate Percentage Change\n",
    "\n",
    "def percentChange(x,numLags):\n",
    "    \n",
    "    '''\n",
    "    Inputs:\n",
    "    x: Data which we want to calculate percent change\n",
    "    numLags: The lag terms\n",
    "    \n",
    "    Output:\n",
    "    percentage change in variable\n",
    "    '''\n",
    "    y = (x - x.shift(numLags))/x.shift(numLags)\n",
    "    return y"
   ]
  },
  {
   "cell_type": "code",
   "execution_count": 4,
   "id": "f89683dd",
   "metadata": {},
   "outputs": [],
   "source": [
    "# Use close price to calculate the daily return\n",
    "data = hist[[\"Close\"]]\n",
    "data[['return']] = percentChange(data[[\"Close\"]],1)\n",
    "data = data.dropna()"
   ]
  },
  {
   "cell_type": "markdown",
   "id": "1ceda3da",
   "metadata": {},
   "source": [
    "### Test if stationary"
   ]
  },
  {
   "cell_type": "code",
   "execution_count": 5,
   "id": "65ed0335",
   "metadata": {},
   "outputs": [],
   "source": [
    "from statsmodels.tsa.stattools import adfuller\n",
    "from statsmodels.graphics.tsaplots import plot_acf, plot_pacf"
   ]
  },
  {
   "cell_type": "code",
   "execution_count": 6,
   "id": "72b1bdd6",
   "metadata": {},
   "outputs": [
    {
     "data": {
      "text/plain": [
       "(-27.25377523974278,\n",
       " 0.0,\n",
       " 0,\n",
       " 725,\n",
       " {'1%': -3.4394018678958544,\n",
       "  '5%': -2.865534780932388,\n",
       "  '10%': -2.5688972751486325},\n",
       " -3845.4272558125513)"
      ]
     },
     "execution_count": 6,
     "metadata": {},
     "output_type": "execute_result"
    }
   ],
   "source": [
    "# Dickey-Fuller Test\n",
    "adf = adfuller(data[['return']], maxlag = 30)\n",
    "adf"
   ]
  },
  {
   "cell_type": "markdown",
   "id": "d75a39d5",
   "metadata": {},
   "source": [
    "We can see the time series is stationary based on the ADFuller test."
   ]
  },
  {
   "cell_type": "markdown",
   "id": "8c05a8b6",
   "metadata": {},
   "source": [
    "### Autocorrelation test"
   ]
  },
  {
   "cell_type": "code",
   "execution_count": 7,
   "id": "60a84787",
   "metadata": {},
   "outputs": [
    {
     "data": {
      "text/plain": [
       "<Figure size 640x480 with 0 Axes>"
      ]
     },
     "metadata": {},
     "output_type": "display_data"
    },
    {
     "data": {
      "image/png": "[encoded data removed]",
      "text/plain": [
       "<Figure size 640x480 with 1 Axes>"
      ]
     },
     "metadata": {},
     "output_type": "display_data"
    },
    {
     "data": {
      "image/png": "[encoded data removed]",
      "text/plain": [
       "<Figure size 640x480 with 1 Axes>"
      ]
     },
     "metadata": {},
     "output_type": "display_data"
    }
   ],
   "source": [
    "# Check autocorrelation at maxlag = 30\n",
    "plt.figure()\n",
    "plot_acf(data[['return']].astype(float),lags = 30)\n",
    "plot_pacf(data[['return']].astype(float),lags = 30)\n",
    "plt.show()"
   ]
  },
  {
   "cell_type": "markdown",
   "id": "54ebb4ab",
   "metadata": {},
   "source": [
    "We can see there is no significant spikes or declining trend. By intuition, we'd better not use ARMA model to describe the process."
   ]
  },
  {
   "cell_type": "markdown",
   "id": "898784dd",
   "metadata": {},
   "source": [
    "The *Ljung-Box* test is defined as:\n",
    "- $H_0$: The data are independently distributed (i.e. the correlations in the population from which the sample is taken are 0, so that any observed correlations in the data result from randomness of the sampling process).\n",
    "- $H_A$: The data are not independently distributed; they exhibit serial correlation.\n",
    "The test statistic(the lb_stat below):\n",
    "$$\n",
    "Q = n(n+2)\\sum_{k=1}^h\\frac{\\hat{\\rho}_k^2}{n-k}\n",
    "$$\n",
    "where $n$ is the sample size, $\\hat{\\rho}_k$ is the sample autocorrelation at lag k, and h is the number of lags being tested. Under $H_{0}$ the statistic Q asymptotically follows a $\\chi_{h}^2$. For a significance level $\\alpha$, we can find the critical region for rejection of the hypothesis of randomness is:\n",
    "$$\n",
    "Q\\geq\\chi_{1-\\alpha,h}^2\n",
    "$$\n",
    "where $\\chi_{1-\\alpha,h}^2$ is the $(1-\\alpha)$-quantile of the chi-squared distribution with h degrees of freedom."
   ]
  },
  {
   "cell_type": "code",
   "execution_count": 8,
   "id": "5f4f3ef6",
   "metadata": {},
   "outputs": [
    {
     "data": {
      "text/html": [
       "<div>\n",
       "<style scoped>\n",
       "    .dataframe tbody tr th:only-of-type {\n",
       "        vertical-align: middle;\n",
       "    }\n",
       "\n",
       "    .dataframe tbody tr th {\n",
       "        vertical-align: top;\n",
       "    }\n",
       "\n",
       "    .dataframe thead th {\n",
       "        text-align: right;\n",
       "    }\n",
       "</style>\n",
       "<table border=\"1\" class=\"dataframe\">\n",
       "  <thead>\n",
       "    <tr style=\"text-align: right;\">\n",
       "      <th></th>\n",
       "      <th>lb_stat</th>\n",
       "      <th>lb_pvalue</th>\n",
       "    </tr>\n",
       "  </thead>\n",
       "  <tbody>\n",
       "    <tr>\n",
       "      <th>1</th>\n",
       "      <td>0.127491</td>\n",
       "      <td>0.721047</td>\n",
       "    </tr>\n",
       "    <tr>\n",
       "      <th>2</th>\n",
       "      <td>0.996837</td>\n",
       "      <td>0.607491</td>\n",
       "    </tr>\n",
       "    <tr>\n",
       "      <th>3</th>\n",
       "      <td>3.808092</td>\n",
       "      <td>0.282946</td>\n",
       "    </tr>\n",
       "    <tr>\n",
       "      <th>4</th>\n",
       "      <td>3.878207</td>\n",
       "      <td>0.422740</td>\n",
       "    </tr>\n",
       "    <tr>\n",
       "      <th>5</th>\n",
       "      <td>3.891626</td>\n",
       "      <td>0.565122</td>\n",
       "    </tr>\n",
       "    <tr>\n",
       "      <th>6</th>\n",
       "      <td>4.381086</td>\n",
       "      <td>0.625251</td>\n",
       "    </tr>\n",
       "    <tr>\n",
       "      <th>7</th>\n",
       "      <td>5.024466</td>\n",
       "      <td>0.656977</td>\n",
       "    </tr>\n",
       "    <tr>\n",
       "      <th>8</th>\n",
       "      <td>5.731373</td>\n",
       "      <td>0.677293</td>\n",
       "    </tr>\n",
       "    <tr>\n",
       "      <th>9</th>\n",
       "      <td>11.802541</td>\n",
       "      <td>0.224671</td>\n",
       "    </tr>\n",
       "    <tr>\n",
       "      <th>10</th>\n",
       "      <td>13.095748</td>\n",
       "      <td>0.218368</td>\n",
       "    </tr>\n",
       "  </tbody>\n",
       "</table>\n",
       "</div>"
      ],
      "text/plain": [
       "      lb_stat  lb_pvalue\n",
       "1    0.127491   0.721047\n",
       "2    0.996837   0.607491\n",
       "3    3.808092   0.282946\n",
       "4    3.878207   0.422740\n",
       "5    3.891626   0.565122\n",
       "6    4.381086   0.625251\n",
       "7    5.024466   0.656977\n",
       "8    5.731373   0.677293\n",
       "9   11.802541   0.224671\n",
       "10  13.095748   0.218368"
      ]
     },
     "execution_count": 8,
     "metadata": {},
     "output_type": "execute_result"
    }
   ],
   "source": [
    "from statsmodels.stats.diagnostic import acorr_ljungbox\n",
    "acorr_ljungbox(data[['return']], lags=10, return_df=True)"
   ]
  },
  {
   "cell_type": "code",
   "execution_count": 9,
   "id": "5126e8ea",
   "metadata": {},
   "outputs": [
    {
     "data": {
      "text/plain": [
       "(11.070497693516351, 18.307038053275146)"
      ]
     },
     "execution_count": 9,
     "metadata": {},
     "output_type": "execute_result"
    }
   ],
   "source": [
    "from scipy.stats import chi2\n",
    "cv5 = chi2.ppf(0.95,5)\n",
    "cv10 = chi2.ppf(0.95,10)\n",
    "cv5,cv10"
   ]
  },
  {
   "cell_type": "markdown",
   "id": "ea44c875",
   "metadata": {},
   "source": [
    "Here we can directly use pvalue to check it.\n",
    "$$0.05 < 0.218,\\quad 0.05 < 0.565125$$\n",
    "or we check it based on the Q(5), Q(10) and their critical values under lag = 5, 10.\n",
    "$$Q(5) = 3.891606 < 11.070498,\\quad Q(10) = 13.095911 < 18.3070381$$\n",
    "So we can see there is no presence of autocorrelations in this time series."
   ]
  },
  {
   "cell_type": "markdown",
   "id": "e3b4da7e",
   "metadata": {},
   "source": [
    "## Problem 3"
   ]
  },
  {
   "cell_type": "markdown",
   "id": "a59dcf68",
   "metadata": {},
   "source": [
    "To check if the process is stationary, we can use its characteristic polynomial. Consider the equation as below:\n",
    "$$\n",
    "\\psi(z) = 1 + 1.1z - 0.18z^2 = 0\n",
    "$$"
   ]
  },
  {
   "cell_type": "code",
   "execution_count": 10,
   "id": "1391f826",
   "metadata": {},
   "outputs": [
    {
     "data": {
      "text/plain": [
       "(-0.803456663736057, 6.91456777484717)"
      ]
     },
     "execution_count": 10,
     "metadata": {},
     "output_type": "execute_result"
    }
   ],
   "source": [
    "import sympy as sp\n",
    "z = sp.symbols(\"z\")\n",
    "z1, z2 = sp.solve(\"1+1.1*z-0.18*z**2\",z)\n",
    "z1, z2"
   ]
  },
  {
   "cell_type": "markdown",
   "id": "d0c12770",
   "metadata": {},
   "source": [
    "We can see the first unit root is outside the unit circle:\n",
    "$$||z_1|| = 0.803457 < 1$$\n",
    "which shows the process is not covariance stationary."
   ]
  },
  {
   "cell_type": "markdown",
   "id": "2e44462f",
   "metadata": {},
   "source": [
    "## Problem 4"
   ]
  },
  {
   "cell_type": "markdown",
   "id": "1744b7d6",
   "metadata": {},
   "source": [
    "Use the same approach as Problem 3, we obtain the characteristic polynomial of the $AR(2)$ process:\n",
    "$$\n",
    "\\psi(z) = 1 - \\beta_1 z - \\beta_2^2 z^2 = 0\n",
    "$$\n",
    "To help us discuss the cases, substitute $w = \\frac{1}{z}$, we obtain:\n",
    "$$\n",
    "w^2 - \\beta_1 w - \\beta_2 = 0\n",
    "$$\n",
    "We need to make sure the unit root $||z|| > 1$ outside the unit circle. Namely, we have $||w|| = \\frac{1}{|z|} < 1$."
   ]
  },
  {
   "cell_type": "markdown",
   "id": "0f324ce6",
   "metadata": {},
   "source": [
    "For this quadratic equation, we know the root is:\n",
    "$$\n",
    "w_{1,2} = \\frac{\\beta_1 \\pm \\sqrt{\\beta_1^2+4\\beta_2}}{2}\n",
    "$$\n",
    "Then we have two cases."
   ]
  },
  {
   "cell_type": "markdown",
   "id": "117a863a",
   "metadata": {},
   "source": [
    "#### Real roots\n",
    "When $\\beta_1^2+4\\beta_2 \\geq 0$, the solutions are real roots."
   ]
  },
  {
   "cell_type": "markdown",
   "id": "42f37b4e",
   "metadata": {},
   "source": [
    "For real roots, we just check the absolute value:\n",
    "$$\n",
    "\\left|\\frac{\\beta_1 \\pm \\sqrt{\\beta_1^2+4\\beta_2}}{2}\\right| < 1\\Rightarrow -1 < \\frac{\\beta_1 -\\sqrt{\\beta_1^2+4\\beta_2}}{2} \\leq \\frac{\\beta_1 + \\sqrt{\\beta_1^2+4\\beta_2}}{2} < 1\n",
    "$$\n",
    "For the upper bound, we have:\n",
    "$$\n",
    "\\frac{\\beta_1 + \\sqrt{\\beta_1^2+4\\beta_2}}{2} < 1\\Rightarrow \\beta_1 + \\sqrt{\\beta_1^2+4\\beta_2} < 2 \\Rightarrow \\beta_1^2+4\\beta_2 < (2-\\beta_1)^2\\Rightarrow \\beta_1+\\beta_2 < 1\n",
    "$$\n",
    "For the lower bound, we have:\n",
    "$$\n",
    "-1 < \\frac{\\beta_1 - \\sqrt{\\beta_1^2+4\\beta_2}}{2} \\Rightarrow -2 < \\beta_1 - \\sqrt{\\beta_1^2+4\\beta_2} \\Rightarrow \\beta_1^2+4\\beta_2 < (2+\\beta_1)^2\\Rightarrow \\beta_2-\\beta_1 < 1\n",
    "$$\n",
    "So we have the conditions: $\\beta_1+\\beta_2 < 1$ and $\\beta_2 - \\beta_1 < 1$ when $\\beta_1^2+4\\beta_2 \\geq 0$."
   ]
  },
  {
   "cell_type": "markdown",
   "id": "03348ffe",
   "metadata": {},
   "source": [
    "#### Complex roots\n",
    "When $\\beta_1^2+4\\beta_2 < 0$, the solutions are complex roots."
   ]
  },
  {
   "cell_type": "markdown",
   "id": "62fc4f41",
   "metadata": {},
   "source": [
    "We have the solutions:\n",
    "$$\n",
    "w_{1,2} = \\frac{\\beta_1}{2} \\pm \\frac{\\sqrt{-4\\beta_2-\\beta_1^2}}{2}i\n",
    "$$\n",
    "They have the same norm\n",
    "$$\n",
    "||w_1|| = ||w_2|| = \\left(\\frac{\\beta_1}{2}\\right)^2 + \\left(\\frac{\\sqrt{-4\\beta_2-\\beta_1^2}}{2}\\right)^2 = \\frac{\\beta_1^2}{4} - \\frac{4\\beta_2+\\beta_1^2}{4} = -\\beta_2 < 1\n",
    "$$\n",
    "So we have the condition: $\\beta_2 > -1$ when $\\beta_1^2+4\\beta_2 < 0$."
   ]
  },
  {
   "cell_type": "markdown",
   "id": "bcf2f934",
   "metadata": {},
   "source": [
    "In conclusion, we obtain the conditions for *AR(2)* process:\n",
    "- <font color=red>$\\beta_1+\\beta_2 < 1$</font>\n",
    "- <font color=blue>$\\beta_2-\\beta_1 < 1$</font>\n",
    "- $\\beta_2 > -1$, combined with the two conditions above, it can be shown as <font color=green>$|\\beta_2| < 1$</font>."
   ]
  },
  {
   "cell_type": "markdown",
   "id": "6a101b7a",
   "metadata": {},
   "source": [
    "The region can be shown as the triangle constructed by the three colored lines, the colors correspond to the conditions above. And the <font color=magenta>curve</font> is the condition of real/complex roots.\n",
    "<img src=\"./condition.png\" width=\"600\" />"
   ]
  }
 ],
 "metadata": {
  "kernelspec": {
   "display_name": "Python 3 (ipykernel)",
   "language": "python",
   "name": "python3"
  },
  "language_info": {
   "codemirror_mode": {
    "name": "ipython",
    "version": 3
   },
   "file_extension": ".py",
   "mimetype": "text/x-python",
   "name": "python",
   "nbconvert_exporter": "python",
   "pygments_lexer": "ipython3",
   "version": "3.9.13"
  }
 },
 "nbformat": 4,
 "nbformat_minor": 5
}
